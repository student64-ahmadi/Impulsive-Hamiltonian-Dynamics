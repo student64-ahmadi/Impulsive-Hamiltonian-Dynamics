{
  "nbformat": 4,
  "nbformat_minor": 0,
  "metadata": {
    "colab": {
      "provenance": [],
      "authorship_tag": "ABX9TyMjIHhYxEH18vPaTTqz9ZMr",
      "include_colab_link": true
    },
    "kernelspec": {
      "name": "python3",
      "display_name": "Python 3"
    },
    "language_info": {
      "name": "python"
    }
  },
  "cells": [
    {
      "cell_type": "markdown",
      "metadata": {
        "id": "view-in-github",
        "colab_type": "text"
      },
      "source": [
        "<a href=\"https://colab.research.google.com/github/student64-ahmadi/Impulsive-Hamiltonian-Dynamics/blob/main/article_pysique_quantique.ipynb\" target=\"_parent\"><img src=\"https://colab.research.google.com/assets/colab-badge.svg\" alt=\"Open In Colab\"/></a>"
      ]
    },
    {
      "cell_type": "code",
      "source": [
        "pip install qutip"
      ],
      "metadata": {
        "colab": {
          "base_uri": "https://localhost:8080/"
        },
        "id": "FPOXcJGF82OV",
        "outputId": "b1bcae04-c88a-4227-d6f2-675c405173c3"
      },
      "execution_count": null,
      "outputs": [
        {
          "output_type": "stream",
          "name": "stdout",
          "text": [
            "Requirement already satisfied: qutip in /usr/local/lib/python3.11/dist-packages (4.7.3)\n",
            "Requirement already satisfied: numpy>=1.16.6 in /usr/local/lib/python3.11/dist-packages (from qutip) (1.26.4)\n",
            "Requirement already satisfied: scipy>=1.0 in /usr/local/lib/python3.11/dist-packages (from qutip) (1.13.1)\n",
            "Requirement already satisfied: packaging in /usr/local/lib/python3.11/dist-packages (from qutip) (24.2)\n"
          ]
        }
      ]
    },
    {
      "cell_type": "code",
      "source": [
        "pip install qutip numpy matplotlib"
      ],
      "metadata": {
        "colab": {
          "base_uri": "https://localhost:8080/"
        },
        "id": "3oOU1NC36vZ5",
        "outputId": "a73413f1-608d-4d57-8087-baad3a7de1a0"
      },
      "execution_count": null,
      "outputs": [
        {
          "output_type": "stream",
          "name": "stdout",
          "text": [
            "Requirement already satisfied: qutip in /usr/local/lib/python3.11/dist-packages (4.7.3)\n",
            "Requirement already satisfied: numpy in /usr/local/lib/python3.11/dist-packages (1.26.4)\n",
            "Requirement already satisfied: matplotlib in /usr/local/lib/python3.11/dist-packages (3.10.0)\n",
            "Requirement already satisfied: scipy>=1.0 in /usr/local/lib/python3.11/dist-packages (from qutip) (1.13.1)\n",
            "Requirement already satisfied: packaging in /usr/local/lib/python3.11/dist-packages (from qutip) (24.2)\n",
            "Requirement already satisfied: contourpy>=1.0.1 in /usr/local/lib/python3.11/dist-packages (from matplotlib) (1.3.1)\n",
            "Requirement already satisfied: cycler>=0.10 in /usr/local/lib/python3.11/dist-packages (from matplotlib) (0.12.1)\n",
            "Requirement already satisfied: fonttools>=4.22.0 in /usr/local/lib/python3.11/dist-packages (from matplotlib) (4.56.0)\n",
            "Requirement already satisfied: kiwisolver>=1.3.1 in /usr/local/lib/python3.11/dist-packages (from matplotlib) (1.4.8)\n",
            "Requirement already satisfied: pillow>=8 in /usr/local/lib/python3.11/dist-packages (from matplotlib) (11.1.0)\n",
            "Requirement already satisfied: pyparsing>=2.3.1 in /usr/local/lib/python3.11/dist-packages (from matplotlib) (3.2.1)\n",
            "Requirement already satisfied: python-dateutil>=2.7 in /usr/local/lib/python3.11/dist-packages (from matplotlib) (2.8.2)\n",
            "Requirement already satisfied: six>=1.5 in /usr/local/lib/python3.11/dist-packages (from python-dateutil>=2.7->matplotlib) (1.17.0)\n"
          ]
        }
      ]
    },
    {
      "cell_type": "code",
      "source": [
        "pip install numpy matplotlib"
      ],
      "metadata": {
        "colab": {
          "base_uri": "https://localhost:8080/"
        },
        "id": "2-vx_mCyoJYZ",
        "outputId": "821db7ee-36cb-49fa-f466-a4f65aad5d05"
      },
      "execution_count": null,
      "outputs": [
        {
          "output_type": "stream",
          "name": "stdout",
          "text": [
            "Requirement already satisfied: numpy in /usr/local/lib/python3.11/dist-packages (1.26.4)\n",
            "Requirement already satisfied: matplotlib in /usr/local/lib/python3.11/dist-packages (3.10.0)\n",
            "Requirement already satisfied: contourpy>=1.0.1 in /usr/local/lib/python3.11/dist-packages (from matplotlib) (1.3.1)\n",
            "Requirement already satisfied: cycler>=0.10 in /usr/local/lib/python3.11/dist-packages (from matplotlib) (0.12.1)\n",
            "Requirement already satisfied: fonttools>=4.22.0 in /usr/local/lib/python3.11/dist-packages (from matplotlib) (4.56.0)\n",
            "Requirement already satisfied: kiwisolver>=1.3.1 in /usr/local/lib/python3.11/dist-packages (from matplotlib) (1.4.8)\n",
            "Requirement already satisfied: packaging>=20.0 in /usr/local/lib/python3.11/dist-packages (from matplotlib) (24.2)\n",
            "Requirement already satisfied: pillow>=8 in /usr/local/lib/python3.11/dist-packages (from matplotlib) (11.1.0)\n",
            "Requirement already satisfied: pyparsing>=2.3.1 in /usr/local/lib/python3.11/dist-packages (from matplotlib) (3.2.1)\n",
            "Requirement already satisfied: python-dateutil>=2.7 in /usr/local/lib/python3.11/dist-packages (from matplotlib) (2.8.2)\n",
            "Requirement already satisfied: six>=1.5 in /usr/local/lib/python3.11/dist-packages (from python-dateutil>=2.7->matplotlib) (1.17.0)\n"
          ]
        }
      ]
    },
    {
      "cell_type": "code",
      "source": [
        "!pip install qutip==4.7.3"
      ],
      "metadata": {
        "colab": {
          "base_uri": "https://localhost:8080/"
        },
        "id": "Xcl8yt2fsXmT",
        "outputId": "9ee5821f-ebf0-4b79-9519-f9255b271de2"
      },
      "execution_count": null,
      "outputs": [
        {
          "output_type": "stream",
          "name": "stdout",
          "text": [
            "Requirement already satisfied: qutip==4.7.3 in /usr/local/lib/python3.11/dist-packages (4.7.3)\n",
            "Requirement already satisfied: numpy>=1.16.6 in /usr/local/lib/python3.11/dist-packages (from qutip==4.7.3) (1.26.4)\n",
            "Requirement already satisfied: scipy>=1.0 in /usr/local/lib/python3.11/dist-packages (from qutip==4.7.3) (1.13.1)\n",
            "Requirement already satisfied: packaging in /usr/local/lib/python3.11/dist-packages (from qutip==4.7.3) (24.2)\n"
          ]
        }
      ]
    },
    {
      "cell_type": "code",
      "source": [
        "%env PYTHONUTF8=1\n",
        "%env PYTHONOPTIMIZE=0\n"
      ],
      "metadata": {
        "colab": {
          "base_uri": "https://localhost:8080/"
        },
        "id": "Fd5PiiE3vu6t",
        "outputId": "b945e703-4fa6-44f7-eb91-534ac597589a"
      },
      "execution_count": null,
      "outputs": [
        {
          "output_type": "stream",
          "name": "stdout",
          "text": [
            "env: PYTHONUTF8=1\n",
            "env: PYTHONOPTIMIZE=0\n"
          ]
        }
      ]
    },
    {
      "cell_type": "code",
      "source": [
        "import os\n",
        "os._exit(00)  # Force un redémarrage\n"
      ],
      "metadata": {
        "id": "ng5eOkReufoO"
      },
      "execution_count": null,
      "outputs": []
    },
    {
      "cell_type": "code",
      "source": [
        "# -*- coding: utf-8 -*-\n",
        "\"\"\"\n",
        "Simulation Quantique Minimaliste - Contrôle de la Décohérence\n",
        "Auteur: Ahmadi Othman\n",
        "Date: 2023-10-15\n",
        "\"\"\"\n",
        "import os\n",
        "os._exit(00)  # Force un redémarrage\n",
        "\n",
        "import numpy as np\n",
        "import matplotlib.pyplot as plt\n",
        "from qutip import sigmax, sigmaz, sigmam, qeye, tensor, basis, mesolve, expect, fock_dm\n",
        "import os\n",
        "import zipfile\n",
        "\n",
        "# =============================================================================\n",
        "# 1. Configuration globale\n",
        "# =============================================================================\n",
        "CONFIG = {\n",
        "    \"params\": {\n",
        "        \"J\": 1.0,                   # Couplage d'échange\n",
        "        \"mu\": 1.0,                  # Amplitude impulsion\n",
        "        \"gamma\": 0.1,               # Taux de dissipation\n",
        "        \"t_event\": 5.0,             # Instant de l'impulsion\n",
        "        \"sigma\": 0.01,              # Largeur gaussienne\n",
        "        \"tlist\": np.linspace(0, 10, 1000)  # Grille temporelle\n",
        "    },\n",
        "    \"output\": {\n",
        "        \"fig_dir\": \"figures\",       # Répertoire de sortie\n",
        "        \"zip_file\": \"quantum_figures.zip\"  # Archive des figures\n",
        "    }\n",
        "}\n",
        "\n",
        "# =============================================================================\n",
        "# 2. Définitions des fonctions principales\n",
        "# =============================================================================\n",
        "def setup_system():\n",
        "    \"\"\"Initialise les opérateurs quantiques\"\"\"\n",
        "    sx, sz = sigmax(), sigmaz()\n",
        "    I = qeye(2)\n",
        "    return {\n",
        "        \"H0\": -CONFIG[\"params\"][\"J\"] * tensor(sx, sx),\n",
        "        \"H_imp\": tensor(sz, I),\n",
        "        \"c_ops\": [np.sqrt(CONFIG[\"params\"][\"gamma\"]) * tensor(sigmam(), I)]\n",
        "    }\n",
        "\n",
        "def gaussian_pulse(t, args):\n",
        "    \"\"\"Profil temporel gaussien\"\"\"\n",
        "    return (CONFIG[\"params\"][\"mu\"] *\n",
        "            np.exp(-(t - CONFIG[\"params\"][\"t_event\"])**2 /\n",
        "            (2 * CONFIG[\"params\"][\"sigma\"]**2)))\n",
        "\n",
        "def run_simulation():\n",
        "    \"\"\"Exécute la simulation principale\"\"\"\n",
        "    system = setup_system()\n",
        "    H = [system[\"H0\"], [system[\"H_imp\"], gaussian_pulse]]  # Correction de la syntaxe\n",
        "    psi0 = tensor(basis(2, 0), basis(2, 0))\n",
        "    return mesolve(H, psi0, CONFIG[\"params\"][\"tlist\"], system[\"c_ops\"], [])\n",
        "\n",
        "# =============================================================================\n",
        "# 3. Fonctions de visualisation\n",
        "# =============================================================================\n",
        "def plot_dynamics(result):\n",
        "    \"\"\"Génère les figures de dynamique quantique\"\"\"\n",
        "    fig = plt.figure(figsize=(10, 12))\n",
        "\n",
        "    # Cohérences\n",
        "    ax1 = plt.subplot(311)\n",
        "    coherences = [np.abs(rho.ptrace(0)[0,1]) for rho in result.states]\n",
        "    ax1.plot(CONFIG[\"params\"][\"tlist\"], coherences, 'b', label='Cohérence |ρ₀₁|')\n",
        "    ax1.axvline(CONFIG[\"params\"][\"t_event\"], color='r', linestyle='--', label='Impulsion')\n",
        "    ax1.set(xlabel='Temps (ns)', ylabel='Amplitude', title='Dynamique des cohérences')\n",
        "    ax1.legend()\n",
        "\n",
        "    # Populations\n",
        "    ax2 = plt.subplot(312)\n",
        "    pop00 = [expect(tensor(fock_dm(2,0), fock_dm(2,0)), rho) for rho in result.states]\n",
        "    pop11 = [expect(tensor(fock_dm(2,1), fock_dm(2,1)), rho) for rho in result.states]\n",
        "    ax2.plot(CONFIG[\"params\"][\"tlist\"], pop00, 'g', label='Population |00⟩')\n",
        "    ax2.plot(CONFIG[\"params\"][\"tlist\"], pop11, 'm', label='Population |11⟩')\n",
        "    ax2.set(xlabel='Temps (ns)', ylabel='Population', title='Évolution des populations')\n",
        "    ax2.legend()\n",
        "\n",
        "    # Pureté\n",
        "    ax3 = plt.subplot(313)\n",
        "    purity = [(rho * rho).tr().real for rho in result.states]\n",
        "    ax3.plot(CONFIG[\"params\"][\"tlist\"], purity, 'k', label='Pureté Tr(ρ²)')\n",
        "    ax3.set(xlabel='Temps (ns)', ylabel='Pureté', title='Évolution de la pureté')\n",
        "    ax3.legend()\n",
        "\n",
        "    plt.tight_layout()\n",
        "    return fig\n",
        "\n",
        "# =============================================================================\n",
        "# 4. Gestion des sorties\n",
        "# =============================================================================\n",
        "def save_figures(fig, filename):\n",
        "    \"\"\"Sauvegarde les figures dans le répertoire dédié\"\"\"\n",
        "    if not os.path.exists(CONFIG[\"output\"][\"fig_dir\"]):\n",
        "        os.makedirs(CONFIG[\"output\"][\"fig_dir\"])\n",
        "    fig.savefig(os.path.join(CONFIG[\"output\"][\"fig_dir\"], filename),\n",
        "                dpi=300, bbox_inches='tight')\n",
        "    plt.close(fig)\n",
        "\n",
        "def create_zip_archive():\n",
        "    \"\"\"Crée une archive ZIP des figures\"\"\"\n",
        "    with zipfile.ZipFile(CONFIG[\"output\"][\"zip_file\"], 'w') as zipf:\n",
        "        for file in os.listdir(CONFIG[\"output\"][\"fig_dir\"]):\n",
        "            zipf.write(os.path.join(CONFIG[\"output\"][\"fig_dir\"], file), file)\n",
        "    print(f\"Archive créée : {CONFIG['output']['zip_file']}\")\n",
        "\n",
        "# =============================================================================\n",
        "# 5. Exécution principale\n",
        "# =============================================================================\n",
        "if __name__ == \"__main__\":\n",
        "    # Simulation\n",
        "    result = run_simulation()\n",
        "\n",
        "    # Génération des figures\n",
        "    dynamics_fig = plot_dynamics(result)\n",
        "\n",
        "    # Sauvegarde\n",
        "    save_figures(dynamics_fig, \"quantum_dynamics.pdf\")\n",
        "    create_zip_archive()\n",
        "\n",
        "    # Téléchargement\n",
        "    try:\n",
        "        from google.colab import files\n",
        "        files.download(CONFIG[\"output\"][\"zip_file\"])\n",
        "    except ImportError:\n",
        "        print(\"Exécution locale détectée : le téléchargement automatique n'est pas disponible.\")\n"
      ],
      "metadata": {
        "id": "OljKpEOvuOdH"
      },
      "execution_count": null,
      "outputs": []
    },
    {
      "cell_type": "code",
      "source": [
        "pip install seaborn"
      ],
      "metadata": {
        "colab": {
          "base_uri": "https://localhost:8080/"
        },
        "id": "CgxsQGUPegrS",
        "outputId": "14739dd7-cf5f-44e8-f241-3a4b5bff3e68"
      },
      "execution_count": 3,
      "outputs": [
        {
          "output_type": "stream",
          "name": "stdout",
          "text": [
            "Requirement already satisfied: seaborn in /usr/local/lib/python3.11/dist-packages (0.13.2)\n",
            "Requirement already satisfied: numpy!=1.24.0,>=1.20 in /usr/local/lib/python3.11/dist-packages (from seaborn) (1.26.4)\n",
            "Requirement already satisfied: pandas>=1.2 in /usr/local/lib/python3.11/dist-packages (from seaborn) (2.2.2)\n",
            "Requirement already satisfied: matplotlib!=3.6.1,>=3.4 in /usr/local/lib/python3.11/dist-packages (from seaborn) (3.10.0)\n",
            "Requirement already satisfied: contourpy>=1.0.1 in /usr/local/lib/python3.11/dist-packages (from matplotlib!=3.6.1,>=3.4->seaborn) (1.3.1)\n",
            "Requirement already satisfied: cycler>=0.10 in /usr/local/lib/python3.11/dist-packages (from matplotlib!=3.6.1,>=3.4->seaborn) (0.12.1)\n",
            "Requirement already satisfied: fonttools>=4.22.0 in /usr/local/lib/python3.11/dist-packages (from matplotlib!=3.6.1,>=3.4->seaborn) (4.56.0)\n",
            "Requirement already satisfied: kiwisolver>=1.3.1 in /usr/local/lib/python3.11/dist-packages (from matplotlib!=3.6.1,>=3.4->seaborn) (1.4.8)\n",
            "Requirement already satisfied: packaging>=20.0 in /usr/local/lib/python3.11/dist-packages (from matplotlib!=3.6.1,>=3.4->seaborn) (24.2)\n",
            "Requirement already satisfied: pillow>=8 in /usr/local/lib/python3.11/dist-packages (from matplotlib!=3.6.1,>=3.4->seaborn) (11.1.0)\n",
            "Requirement already satisfied: pyparsing>=2.3.1 in /usr/local/lib/python3.11/dist-packages (from matplotlib!=3.6.1,>=3.4->seaborn) (3.2.1)\n",
            "Requirement already satisfied: python-dateutil>=2.7 in /usr/local/lib/python3.11/dist-packages (from matplotlib!=3.6.1,>=3.4->seaborn) (2.8.2)\n",
            "Requirement already satisfied: pytz>=2020.1 in /usr/local/lib/python3.11/dist-packages (from pandas>=1.2->seaborn) (2025.1)\n",
            "Requirement already satisfied: tzdata>=2022.7 in /usr/local/lib/python3.11/dist-packages (from pandas>=1.2->seaborn) (2025.1)\n",
            "Requirement already satisfied: six>=1.5 in /usr/local/lib/python3.11/dist-packages (from python-dateutil>=2.7->matplotlib!=3.6.1,>=3.4->seaborn) (1.17.0)\n"
          ]
        }
      ]
    },
    {
      "cell_type": "code",
      "source": [
        "# -*- coding: utf-8 -*-\n",
        "\"\"\"\n",
        "Génération des figures pour l'article sur le contrôle de la décohérence\n",
        "Auteur : Ahmadi Othman\n",
        "Date : 15/03/2025\n",
        "\"\"\"\n",
        "\n",
        "import numpy as np\n",
        "import matplotlib.pyplot as plt\n",
        "from qutip import *\n",
        "import os\n",
        "from matplotlib.backends.backend_pdf import PdfPages\n",
        "\n",
        "# =============================================================================\n",
        "# 1. Configuration générale\n",
        "# =============================================================================\n",
        "\n",
        "# Paramètres physiques\n",
        "params = {\n",
        "    \"J\": 1.0,          # GHz - Couplage d'échange\n",
        "    \"mu\": 1.0,         # GHz - Amplitude impulsion\n",
        "    \"gamma\": 0.1,      # GHz - Taux de relaxation\n",
        "    \"t_event\": 5.0,    # ns - Instant de l'impulsion\n",
        "    \"sigma\": 0.01,     # ns - Largeur gaussienne\n",
        "    \"tlist\": np.linspace(0, 10, 1000)  # Grille temporelle\n",
        "}\n",
        "\n",
        "# Configuration des figures\n",
        "colors = ['#1f77b4', '#ff7f0e', '#2ca02c', '#d62728']\n",
        "plt.rcParams.update({\n",
        "    'font.size': 12,\n",
        "    'axes.titlesize': 14,\n",
        "    'axes.labelsize': 12,\n",
        "    'lines.linewidth': 2,\n",
        "    'xtick.labelsize': 10,\n",
        "    'ytick.labelsize': 10,\n",
        "    'legend.fontsize': 10,\n",
        "    'figure.figsize': (8, 6),\n",
        "    'text.usetex': False,\n",
        "    'axes.grid': True,\n",
        "    'grid.alpha': 0.3,\n",
        "    'axes.edgecolor': '#333333',\n",
        "    'axes.facecolor': 'white'\n",
        "})\n",
        "\n",
        "# Création des dossiers de sortie\n",
        "os.makedirs('figures', exist_ok=True)\n",
        "\n",
        "# =============================================================================\n",
        "# 2. Définitions du système quantique\n",
        "# =============================================================================\n",
        "\n",
        "# Opérateurs quantiques\n",
        "sx = sigmax()\n",
        "sz = sigmaz()\n",
        "I = qeye(2)\n",
        "\n",
        "# Hamiltonien du système\n",
        "H0 = -params[\"J\"] * tensor(sx, sx)\n",
        "\n",
        "# Fonction impulsion gaussienne\n",
        "def gaussian_pulse(t, args):\n",
        "    return (params[\"mu\"] *\n",
        "            np.exp(-(t - params[\"t_event\"])**2 / (2 * params[\"sigma\"]**2)))\n",
        "\n",
        "# Hamiltonien complet\n",
        "H = [H0, [tensor(sz, I), gaussian_pulse]]\n",
        "\n",
        "# Opérateurs de collapse\n",
        "c_ops = [np.sqrt(params[\"gamma\"]) * tensor(sigmam(), I)]\n",
        "\n",
        "# État initial\n",
        "psi0 = (tensor(basis(2,0), basis(2,0)) + tensor(basis(2,1), basis(2,1))).unit()\n",
        "rho0 = ket2dm(psi0)\n",
        "\n",
        "# =============================================================================\n",
        "# 3. Simulation principale\n",
        "# =============================================================================\n",
        "\n",
        "# Résolution de l'équation maîtresse\n",
        "result = mesolve(H, rho0, params[\"tlist\"], c_ops, [])\n",
        "\n",
        "# Calcul des observables\n",
        "coherences = [np.abs(state.ptrace(0)[0,1]) for state in result.states]\n",
        "pop00 = [expect(tensor(fock_dm(2,0), fock_dm(2,0)), state) for state in result.states]\n",
        "pop11 = [expect(tensor(fock_dm(2,1), fock_dm(2,1)), state) for state in result.states]\n",
        "purity = [(state*state).tr().real for state in result.states]\n",
        "\n",
        "# =============================================================================\n",
        "# 4. Génération des figures principales\n",
        "# =============================================================================\n",
        "\n",
        "with PdfPages('figures/all_figures.pdf') as pdf:\n",
        "\n",
        "    # Figure 1 : Dynamique des cohérences\n",
        "    fig1 = plt.figure(figsize=(10, 6))\n",
        "    plt.plot(params[\"tlist\"], coherences, color=colors[0], label='|ρ₀₁|')\n",
        "    plt.axvline(params[\"t_event\"], color='k', linestyle='--', label='Impulsion')\n",
        "    plt.xlabel('Temps (ns)')\n",
        "    plt.ylabel('Cohérence')\n",
        "    plt.title('Dynamique des cohérences')\n",
        "    plt.legend(frameon=True, facecolor='white', edgecolor='black')\n",
        "    pdf.savefig(fig1)\n",
        "    plt.close()\n",
        "\n",
        "    # Figure 2 : Transfert de population\n",
        "    fig2 = plt.figure(figsize=(10, 6))\n",
        "    plt.plot(params[\"tlist\"], pop00, color=colors[1], label='Population |00⟩')\n",
        "    plt.plot(params[\"tlist\"], pop11, color=colors[2], label='Population |11⟩')\n",
        "    plt.xlabel('Temps (ns)')\n",
        "    plt.ylabel('Population')\n",
        "    plt.title('Transfert de population')\n",
        "    plt.legend(frameon=True, facecolor='white', edgecolor='black')\n",
        "    pdf.savefig(fig2)\n",
        "    plt.close()\n",
        "\n",
        "    # Figure 3 : Évolution de la pureté\n",
        "    fig3 = plt.figure(figsize=(10, 6))\n",
        "    plt.plot(params[\"tlist\"], purity, color=colors[3], label='Tr(ρ²)')\n",
        "    plt.axvline(params[\"t_event\"], color='k', linestyle='--', label='Impulsion')\n",
        "    plt.xlabel('Temps (ns)')\n",
        "    plt.ylabel('Pureté')\n",
        "    plt.title('Évolution de la pureté quantique')\n",
        "    plt.legend(frameon=True, facecolor='white', edgecolor='black')\n",
        "    pdf.savefig(fig3)\n",
        "    plt.close()\n",
        "\n",
        "    # Figure 4 : Sensibilité à l'amplitude μ\n",
        "    fig4 = plt.figure(figsize=(10, 6))\n",
        "    mu_values = [0.5, 1.0, 1.5]\n",
        "    for mu in mu_values:\n",
        "        params[\"mu\"] = mu\n",
        "        result_mu = mesolve(H, rho0, params[\"tlist\"], c_ops, [])\n",
        "        purity_mu = [(state*state).tr().real for state in result_mu.states]\n",
        "        plt.plot(params[\"tlist\"], purity_mu, label=f'μ = {mu} GHz')\n",
        "    plt.xlabel('Temps (ns)')\n",
        "    plt.ylabel('Pureté')\n",
        "    plt.title('Sensibilité à l\\'amplitude μ')\n",
        "    plt.legend(frameon=True, facecolor='white', edgecolor='black')\n",
        "    pdf.savefig(fig4)\n",
        "    plt.close()\n",
        "\n",
        "    # =============================================================================\n",
        "    # 5. Figures expérimentales supplémentaires\n",
        "    # =============================================================================\n",
        "\n",
        "    # Données simulées pour l'analyse spectrale\n",
        "    time_exp = np.linspace(10, 20, 100)\n",
        "    population_exp = 0.4 + 0.1 * np.sin(2 * np.pi * 0.35 * time_exp)  # Oscillations à f = 0.35 Hz\n",
        "    frequency = np.linspace(0.3, 0.5, 100)\n",
        "    amplitude_spectrum = np.exp(-((frequency - 0.35)**2) / (2 * 0.02**2))  # Pic spectral\n",
        "\n",
        "    # Figure 5 : Dynamique de population expérimentale\n",
        "    fig5 = plt.figure(figsize=(10, 6))\n",
        "    plt.plot(time_exp, population_exp, color=colors[0], label='Données expérimentales')\n",
        "    plt.axvline(15, color='k', linestyle='--', label='Impulsion')\n",
        "    plt.xlabel('Temps (ns)')\n",
        "    plt.ylabel('Population normalisée')\n",
        "    plt.title('Dynamique de population sous impulsion')\n",
        "    plt.legend(frameon=True, facecolor='white', edgecolor='black')\n",
        "    pdf.savefig(fig5)\n",
        "    plt.close()\n",
        "\n",
        "    # Figure 6 : Analyse spectrale des oscillations\n",
        "    fig6 = plt.figure(figsize=(10, 6))\n",
        "    plt.plot(frequency, amplitude_spectrum, color=colors[1], label='Spectre mesuré')\n",
        "    plt.axvline(0.35, color='k', linestyle='--', label='f = 0.35 ± 0.02 Hz')\n",
        "    plt.xlabel('Fréquence (Hz)')\n",
        "    plt.ylabel('Amplitude normalisée')\n",
        "    plt.title('Analyse spectrale des oscillations')\n",
        "    plt.legend(frameon=True, facecolor='white', edgecolor='black')\n",
        "    pdf.savefig(fig6)\n",
        "    plt.close()\n",
        "\n",
        "print(\"Génération terminée ! Téléchargez le dossier 'figures' depuis Colab.\")"
      ],
      "metadata": {
        "colab": {
          "base_uri": "https://localhost:8080/"
        },
        "id": "e9mFvdNvzUYC",
        "outputId": "879f8536-4895-4d7a-a2df-08aedae7ea03"
      },
      "execution_count": 8,
      "outputs": [
        {
          "output_type": "stream",
          "name": "stderr",
          "text": [
            "/usr/local/lib/python3.11/dist-packages/qutip/solver/solver_base.py:576: FutureWarning: e_ops will be keyword only from qutip 5.3 for all solver\n",
            "  warnings.warn(\n"
          ]
        },
        {
          "output_type": "stream",
          "name": "stdout",
          "text": [
            "Génération terminée ! Téléchargez le dossier 'figures' depuis Colab.\n"
          ]
        }
      ]
    }
  ]
}